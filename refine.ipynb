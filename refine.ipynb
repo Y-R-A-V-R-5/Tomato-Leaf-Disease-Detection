{
 "cells": [
  {
   "cell_type": "code",
   "execution_count": 5,
   "id": "6c0fc853-7956-45b6-84b3-3a94743c288a",
   "metadata": {},
   "outputs": [],
   "source": [
    "from pathlib import Path\n",
    "import re\n",
    "from tqdm import tqdm"
   ]
  },
  {
   "cell_type": "code",
   "execution_count": 6,
   "id": "a457162b-d57c-47e3-82de-f3b4030254f2",
   "metadata": {},
   "outputs": [],
   "source": [
    "# YOLO-valid line regex\n",
    "valid_yolo_line = re.compile(r'^\\d+\\s+')"
   ]
  },
  {
   "cell_type": "code",
   "execution_count": 11,
   "id": "ee767890-d4da-4fc1-b02a-ecd579b06549",
   "metadata": {},
   "outputs": [],
   "source": [
    "# --- Configuration ---\n",
    "raw_labels_dir = Path(r\"dataset\\raw\\labels\")\n",
    "cleaned_labels_dir = Path(r\"dataset\\raw\\clean_labels\")\n",
    "cleaned_labels_dir.mkdir(parents=True, exist_ok=True)"
   ]
  },
  {
   "cell_type": "code",
   "execution_count": 12,
   "id": "cd26c46d-501d-4cf0-820b-e4bd3b015b29",
   "metadata": {},
   "outputs": [],
   "source": [
    "# --- Valid YOLO line pattern ---\n",
    "def is_valid_yolo_line(line: str) -> bool:\n",
    "    try:\n",
    "        parts = line.strip().split()\n",
    "        if len(parts) != 5:\n",
    "            return False\n",
    "        int(parts[0])  # class_id\n",
    "        float(parts[1])\n",
    "        float(parts[2])\n",
    "        float(parts[3])\n",
    "        float(parts[4])\n",
    "        return True\n",
    "    except:\n",
    "        return False"
   ]
  },
  {
   "cell_type": "code",
   "execution_count": 13,
   "id": "5b274073-fb1c-4898-83e9-51af5f035f93",
   "metadata": {},
   "outputs": [],
   "source": [
    "# --- Markers to exclude ---\n",
    "conflict_markers = ['<<<<<<<', '=======', '>>>>>>>']\n",
    "git_lfs_markers = ['version https://git-lfs.github.com', 'oid sha256', 'size ']"
   ]
  },
  {
   "cell_type": "code",
   "execution_count": 14,
   "id": "1aebb32e-49f1-4dfc-8d61-cccbf247dd5a",
   "metadata": {},
   "outputs": [],
   "source": [
    "# --- Cleaning Function ---\n",
    "def clean_yolo_label_file(src_path: Path, dst_path: Path) -> bool:\n",
    "    try:\n",
    "        with open(src_path, 'r', encoding='utf-8') as f:\n",
    "            lines = f.readlines()\n",
    "\n",
    "        cleaned = []\n",
    "        for line in lines:\n",
    "            if any(marker in line for marker in conflict_markers + git_lfs_markers):\n",
    "                continue\n",
    "            if is_valid_yolo_line(line):\n",
    "                cleaned.append(line)\n",
    "\n",
    "        if cleaned:\n",
    "            with open(dst_path, 'w', encoding='utf-8') as f:\n",
    "                f.writelines(cleaned)\n",
    "            return True\n",
    "    except Exception as e:\n",
    "        print(f\"❌ Error cleaning {src_path}: {e}\")\n",
    "    return False"
   ]
  },
  {
   "cell_type": "code",
   "execution_count": 15,
   "id": "abe61076-d491-4b82-bbdb-506b17465e69",
   "metadata": {},
   "outputs": [
    {
     "name": "stderr",
     "output_type": "stream",
     "text": [
      "Cleaning raw/labels: 100%|█████████████████████████████████████████████████████| 10853/10853 [00:03<00:00, 2854.99it/s]\n"
     ]
    },
    {
     "name": "stdout",
     "output_type": "stream",
     "text": [
      "\n",
      "Done. Cleaned and saved 10687 files to: dataset\\raw\\clean_labels\n"
     ]
    }
   ],
   "source": [
    "# --- Process all .txt files ---\n",
    "label_files = list(raw_labels_dir.glob('*.txt'))\n",
    "fixed_count = 0\n",
    "\n",
    "for file in tqdm(label_files, desc=\"Cleaning raw/labels\"):\n",
    "    dst_file = cleaned_labels_dir / file.name\n",
    "    if clean_yolo_label_file(file, dst_file):\n",
    "        fixed_count += 1\n",
    "\n",
    "print(f\"\\nDone. Cleaned and saved {fixed_count} files to: {cleaned_labels_dir}\")"
   ]
  }
 ],
 "metadata": {
  "kernelspec": {
   "display_name": "Python 3 (ipykernel)",
   "language": "python",
   "name": "python3"
  },
  "language_info": {
   "codemirror_mode": {
    "name": "ipython",
    "version": 3
   },
   "file_extension": ".py",
   "mimetype": "text/x-python",
   "name": "python",
   "nbconvert_exporter": "python",
   "pygments_lexer": "ipython3",
   "version": "3.12.7"
  }
 },
 "nbformat": 4,
 "nbformat_minor": 5
}
