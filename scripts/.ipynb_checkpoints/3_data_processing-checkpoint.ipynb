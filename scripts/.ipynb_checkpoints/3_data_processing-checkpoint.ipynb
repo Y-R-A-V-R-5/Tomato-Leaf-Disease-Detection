{
 "cells": [
  {
   "cell_type": "code",
   "execution_count": null,
   "id": "0783b3d7-eafd-46f4-8209-b7df8fd1fc6f",
   "metadata": {},
   "outputs": [],
   "source": [
    "###==========================================\n",
    "# Section ~ 0: Importing Libraries\n",
    "###=========================================="
   ]
  },
  {
   "cell_type": "code",
   "execution_count": 2,
   "id": "7a37687f-0d3e-4c0e-a271-795842b7565a",
   "metadata": {},
   "outputs": [],
   "source": [
    "import numpy as np\n",
    "import matplotlib.pyplot as plt\n",
    "import seaborn as sns\n",
    "from PIL import Image, ImageFile, ImageDraw"
   ]
  },
  {
   "cell_type": "code",
   "execution_count": 3,
   "id": "0a3f42cd-2018-4b56-accd-070e4d88c319",
   "metadata": {},
   "outputs": [],
   "source": [
    "import os\n",
    "from pathlib import Path\n",
    "import shutil\n",
    "import random\n",
    "import warnings"
   ]
  },
  {
   "cell_type": "code",
   "execution_count": 4,
   "id": "9ae0a310-5589-43c1-b878-35485ab3f761",
   "metadata": {},
   "outputs": [],
   "source": [
    "from collections import Counter, defaultdict\n",
    "from tqdm import tqdm\n",
    "from itertools import combinations\n",
    "import yaml"
   ]
  },
  {
   "cell_type": "code",
   "execution_count": 5,
   "id": "02584d48-1886-4700-9fca-f572ccf83809",
   "metadata": {},
   "outputs": [],
   "source": [
    "import albumentations as A\n",
    "import cv2\n",
    "from albumentations.pytorch import ToTensorV2"
   ]
  },
  {
   "cell_type": "code",
   "execution_count": 6,
   "id": "37e0a798-79e3-4b3a-b2e2-d657adc5e4ac",
   "metadata": {},
   "outputs": [],
   "source": [
    "ImageFile.LOAD_TRUNCATED_IMAGES = True\n",
    "sns.set(style=\"whitegrid\")\n",
    "warnings.filterwarnings('ignore')"
   ]
  },
  {
   "cell_type": "code",
   "execution_count": 7,
   "id": "717c103d-6474-4302-bcde-6b30c7fb6658",
   "metadata": {},
   "outputs": [],
   "source": [
    "###==========================================\n",
    "# Section ~ 1: Define Paths\n",
    "###=========================================="
   ]
  },
  {
   "cell_type": "code",
   "execution_count": 8,
   "id": "de6e12ca-be65-418c-adee-9846449205b6",
   "metadata": {},
   "outputs": [],
   "source": [
    "project_root = Path.cwd().parent"
   ]
  },
  {
   "cell_type": "code",
   "execution_count": 9,
   "id": "df6da797-65de-4401-954d-02b7348eb9f0",
   "metadata": {},
   "outputs": [],
   "source": [
    "dataset_dir = project_root / 'dataset'\n",
    "train_dir = dataset_dir / 'train'"
   ]
  },
  {
   "cell_type": "code",
   "execution_count": 10,
   "id": "44147059-528e-4868-881f-499b129d478f",
   "metadata": {},
   "outputs": [],
   "source": [
    "train_raw_images_dir = train_dir / 'images'       # Original images\n",
    "train_raw_labels_dir = train_dir / 'labels'       # Original YOLO-format labels"
   ]
  },
  {
   "cell_type": "code",
   "execution_count": 11,
   "id": "383a35f5-7c36-4d00-b9ea-0bed2b4d3809",
   "metadata": {},
   "outputs": [],
   "source": [
    "train_aug_images_dir = train_dir / 'aug_images'       # Augmented images to be stored here\n",
    "train_aug_labels_dir = train_dir / 'aug_labels'       # YOLO labels for augmented images"
   ]
  },
  {
   "cell_type": "code",
   "execution_count": 12,
   "id": "5f3b3008-7689-4362-bf5a-d6b727cf6de3",
   "metadata": {},
   "outputs": [],
   "source": [
    "reports_figures_dir = project_root / 'reports/figures/3_data_processing'"
   ]
  },
  {
   "cell_type": "code",
   "execution_count": null,
   "id": "5e799a97-ee19-40b2-821b-1a3883df8943",
   "metadata": {},
   "outputs": [],
   "source": []
  },
  {
   "cell_type": "code",
   "execution_count": 13,
   "id": "7057bf46-bf13-4671-a04f-44189e90f6af",
   "metadata": {},
   "outputs": [],
   "source": [
    "import albumentations as A\n",
    "import cv2"
   ]
  },
  {
   "cell_type": "code",
   "execution_count": 14,
   "id": "d7fabc78-faf9-4fe3-907b-9f37fa6b242a",
   "metadata": {},
   "outputs": [],
   "source": [
    "def read_yolo_labels(label_path):\n",
    "    with open(label_path) as f:\n",
    "        lines = f.read().strip().split('\\n')\n",
    "    labels = []\n",
    "    for line in lines:\n",
    "        if not line.strip():\n",
    "            continue\n",
    "        cls, x, y, w, h = map(float, line.split())\n",
    "        labels.append([int(cls), x, y, w, h])\n",
    "    return labels"
   ]
  },
  {
   "cell_type": "code",
   "execution_count": 15,
   "id": "7639616e-195f-4753-becb-a52f9e51cb58",
   "metadata": {},
   "outputs": [],
   "source": [
    "def draw_boxes_on_image(image_np, labels, color=(255, 0, 0)):\n",
    "    h, w, _ = image_np.shape\n",
    "    for label in labels:\n",
    "        cls, x, y, bw, bh = label\n",
    "        x1 = int((x - bw / 2) * w)\n",
    "        y1 = int((y - bh / 2) * h)\n",
    "        x2 = int((x + bw / 2) * w)\n",
    "        y2 = int((y + bh / 2) * h)\n",
    "        cv2.rectangle(image_np, (x1, y1), (x2, y2), color, 2)\n",
    "    return image_np"
   ]
  },
  {
   "cell_type": "code",
   "execution_count": 16,
   "id": "d4c2464d-0bf5-49f6-9ab9-c870ada087db",
   "metadata": {},
   "outputs": [],
   "source": [
    "def get_random_augmentation_pipeline():\n",
    "    num_transforms = random.randint(3, 5)\n",
    "    all_transforms = [\n",
    "        A.HorizontalFlip(p=1.0),\n",
    "        A.RandomBrightnessContrast(p=1.0),\n",
    "        A.Rotate(limit=30, p=1.0),\n",
    "        A.Blur(blur_limit=3, p=1.0),\n",
    "        A.MotionBlur(blur_limit=3, p=1.0),\n",
    "        A.ShiftScaleRotate(shift_limit=0.0625, scale_limit=0.1, rotate_limit=20, p=1.0),\n",
    "        A.ColorJitter(p=1.0),\n",
    "        A.GaussNoise(p=1.0),\n",
    "        A.RandomCrop(width=256, height=256, p=1.0)\n",
    "    ]\n",
    "    selected = random.sample(all_transforms, num_transforms)\n",
    "    return A.Compose(\n",
    "        selected,\n",
    "        bbox_params=A.BboxParams(format='yolo', label_fields=['class_labels'])\n",
    "    )"
   ]
  },
  {
   "cell_type": "code",
   "execution_count": 17,
   "id": "d48e0086-0a66-4b69-911a-f1e45a829cf1",
   "metadata": {},
   "outputs": [],
   "source": [
    "def visualize_augmentations(image_dir, label_dir, num_samples=6):\n",
    "    image_files = [f for f in image_dir.glob('*.jpg') if (label_dir / f\"{f.stem}.txt\").exists()]\n",
    "    sample_files = random.sample(image_files, min(num_samples, len(image_files)))\n",
    "\n",
    "    fig, axes = plt.subplots(len(sample_files), 2, figsize=(12, 4 * len(sample_files)))\n",
    "    \n",
    "    if len(sample_files) == 1:\n",
    "        axes = [axes]  # flatten if 1 sample\n",
    "\n",
    "    for idx, image_path in enumerate(sample_files):\n",
    "        label_path = label_dir / f\"{image_path.stem}.txt\"\n",
    "        image = cv2.imread(str(image_path))\n",
    "        image = cv2.cvtColor(image, cv2.COLOR_BGR2RGB)\n",
    "        labels = read_yolo_labels(label_path)\n",
    "\n",
    "        class_labels = [label[0] for label in labels]\n",
    "        bboxes = [label[1:] for label in labels]\n",
    "\n",
    "        # Draw original\n",
    "        original_drawn = draw_boxes_on_image(image.copy(), labels)\n",
    "        axes[idx][0].imshow(original_drawn)\n",
    "        axes[idx][0].set_title(\"Original\")\n",
    "        axes[idx][0].axis(\"off\")\n",
    "\n",
    "        # Apply augmentation\n",
    "        aug = get_random_augmentation_pipeline()\n",
    "        transformed = aug(image=image, bboxes=bboxes, class_labels=class_labels)\n",
    "        augmented_image = transformed[\"image\"]\n",
    "        augmented_labels = list(zip(transformed[\"class_labels\"], transformed[\"bboxes\"]))\n",
    "\n",
    "        # Draw augmented\n",
    "        augmented_drawn = draw_boxes_on_image(augmented_image.copy(), augmented_labels, color=(0, 255, 0))\n",
    "        axes[idx][1].imshow(augmented_drawn)\n",
    "        axes[idx][1].set_title(f\"Augmented ({len(aug.transforms)} Transforms)\")\n",
    "        axes[idx][1].axis(\"off\")\n",
    "\n",
    "    plt.tight_layout()\n",
    "    plt.show()"
   ]
  },
  {
   "cell_type": "code",
   "execution_count": null,
   "id": "6601b00c-e081-4817-8516-3fdcf8f92210",
   "metadata": {},
   "outputs": [],
   "source": [
    "# Call this to visualize\n",
    "visualize_augmentations(\n",
    "    image_dir=train_raw_images_dir,\n",
    "    label_dir=train_raw_labels_dir,\n",
    "    num_samples=6\n",
    ")"
   ]
  },
  {
   "cell_type": "code",
   "execution_count": null,
   "id": "9045e016-0b71-47d3-a5f9-bd1eb7265dfd",
   "metadata": {},
   "outputs": [],
   "source": []
  }
 ],
 "metadata": {
  "kernelspec": {
   "display_name": "Python 3 (ipykernel)",
   "language": "python",
   "name": "python3"
  },
  "language_info": {
   "codemirror_mode": {
    "name": "ipython",
    "version": 3
   },
   "file_extension": ".py",
   "mimetype": "text/x-python",
   "name": "python",
   "nbconvert_exporter": "python",
   "pygments_lexer": "ipython3",
   "version": "3.12.7"
  }
 },
 "nbformat": 4,
 "nbformat_minor": 5
}
